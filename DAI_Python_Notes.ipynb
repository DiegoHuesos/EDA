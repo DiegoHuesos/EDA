{
  "nbformat": 4,
  "nbformat_minor": 0,
  "metadata": {
    "colab": {
      "name": "DAI_Python_Notes.ipynb",
      "provenance": [],
      "collapsed_sections": [],
      "include_colab_link": true
    },
    "kernelspec": {
      "name": "python3",
      "display_name": "Python 3"
    }
  },
  "cells": [
    {
      "cell_type": "markdown",
      "metadata": {
        "id": "view-in-github",
        "colab_type": "text"
      },
      "source": [
        "<a href=\"https://colab.research.google.com/github/DiegoHuesos/EDA/blob/master/DAI_Python_Notes.ipynb\" target=\"_parent\"><img src=\"https://colab.research.google.com/assets/colab-badge.svg\" alt=\"Open In Colab\"/></a>"
      ]
    },
    {
      "cell_type": "markdown",
      "metadata": {
        "id": "ylNUe7Mns70P",
        "colab_type": "text"
      },
      "source": [
        "Objetos de Python son:\n",
        "\n",
        "--> Mutables:\n",
        "\n",
        "--> Inmutables: \n",
        "\n",
        "\n"
      ]
    },
    {
      "cell_type": "code",
      "metadata": {
        "id": "bsAhmZDnuZg6",
        "colab_type": "code",
        "colab": {
          "base_uri": "https://localhost:8080/",
          "height": 238
        },
        "outputId": "8b89155a-417e-49b8-d8f5-8e9576bb33d9"
      },
      "source": [
        "#Para conocer las listas de palabras reservadas:\n",
        "help(\"keywords\")"
      ],
      "execution_count": 1,
      "outputs": [
        {
          "output_type": "stream",
          "text": [
            "\n",
            "Here is a list of the Python keywords.  Enter any keyword to get more help.\n",
            "\n",
            "False               def                 if                  raise\n",
            "None                del                 import              return\n",
            "True                elif                in                  try\n",
            "and                 else                is                  while\n",
            "as                  except              lambda              with\n",
            "assert              finally             nonlocal            yield\n",
            "break               for                 not                 \n",
            "class               from                or                  \n",
            "continue            global              pass                \n",
            "\n"
          ],
          "name": "stdout"
        }
      ]
    },
    {
      "cell_type": "code",
      "metadata": {
        "id": "DjMjV29dwvI0",
        "colab_type": "code",
        "colab": {}
      },
      "source": [
        "#Tipos de datos:\n",
        "x=10\n",
        "y=12.5\n",
        "z='100'\n",
        "print('Type x: ', type(x))\n",
        "print('Type y: ', type(y))\n",
        "print('Type x: ', type(z))\n",
        "\n",
        "xy=x+y\n",
        "xz1= str(x) + z\n",
        "xz2= x + int(z)"
      ],
      "execution_count": 0,
      "outputs": []
    },
    {
      "cell_type": "code",
      "metadata": {
        "id": "Cy9iCkTUx569",
        "colab_type": "code",
        "colab": {}
      },
      "source": [
        "#Operaciones numéricas:\n",
        "a=10\n",
        "b=3\n",
        "print('División:                  ', a/b)\n",
        "print('Cociente/División entera:  ', a//b)\n",
        "print('Residuo/Módulo:            ', a%b)"
      ],
      "execution_count": 0,
      "outputs": []
    },
    {
      "cell_type": "code",
      "metadata": {
        "id": "Mqf-MGQ3yo2k",
        "colab_type": "code",
        "colab": {}
      },
      "source": [
        "#Impresión con formato:\n",
        "c= 124.56789\n",
        "d= 100\n",
        "import math\n",
        "\n",
        "print(a, d, math.pi)\n",
        "print('d={1} valor de c={0:6.3f} c={0}'.format(c, d) )\n",
        "print('Valor de PI= %6.3f' %math.pi)"
      ],
      "execution_count": 0,
      "outputs": []
    },
    {
      "cell_type": "code",
      "metadata": {
        "id": "Mjhgk9jQ1dTT",
        "colab_type": "code",
        "colab": {}
      },
      "source": [
        "#Todo es un objeto en Python\n",
        "#Cada vez que se modiifcia el valor se crea un objeto nuevo.\n",
        "miX = 12345\n",
        "print(miX, ':', id(miX))\n",
        "\n",
        "miX = miX + 1\n",
        "print(miX, ':', id(miX))"
      ],
      "execution_count": 0,
      "outputs": []
    },
    {
      "cell_type": "code",
      "metadata": {
        "id": "sjS_xqfX2P5H",
        "colab_type": "code",
        "colab": {}
      },
      "source": [
        "#Los STRINGS son inmutables , crean un nuevo objeto:\n",
        "miStringA =  'Hola ITAM'\n",
        "miStringB =  miStringA\n",
        "miStringA =  'hola DAI'\n",
        "\n",
        "print(miStringA)\n",
        "print(miStringB)\n",
        "\n",
        "miStringA = miStringA.replace('h', 'H')\n",
        "print(miStringA)\n",
        "\n",
        "cad=\"abcdefghijklmnñopqrstuvwxyx\"\n",
        "print('\\n',cad)\n",
        "print(len(cad))\n",
        "print(cad[5])\n",
        "print(cad[2:5]) #Slice de la posición 2 a la 5 sin incluir el último.\n",
        "print(cad[:5])  #De inicio a 5\n",
        "print(cad[1::2]) #De 1 al final avanzando de 2 en 2\n",
        "print(cad[-26])  \n",
        "print(cad[::-2]) #Recorre de atrás para adelante de dos en dos"
      ],
      "execution_count": 0,
      "outputs": []
    },
    {
      "cell_type": "code",
      "metadata": {
        "colab_type": "code",
        "id": "MveJg9ug2lEc",
        "colab": {}
      },
      "source": [
        "#Cada vez que se modiifcia el valor se crea un objeto nuevo.\n",
        "arr = [1,2,3]\n",
        "print(arr, ':', id(arr))\n",
        "\n",
        "arr[0] = 4\n",
        "print(arr, ':', id(arr))"
      ],
      "execution_count": 0,
      "outputs": []
    },
    {
      "cell_type": "code",
      "metadata": {
        "id": "0RhjKeX257nQ",
        "colab_type": "code",
        "outputId": "f59f9fac-61d1-4212-f5af-ffa9a05749b8",
        "colab": {
          "base_uri": "https://localhost:8080/",
          "height": 51
        }
      },
      "source": [
        "#\n",
        "strA = 'AAA'\n",
        "lstA = ['a', 'e', 'i', 'o', 'u']\n",
        "lstB = [1000, lstA, 10, 20, strA]\n",
        "\n",
        "print(lstB)\n",
        "\n",
        "strA= 'nooo'\n",
        "lstA[3] = 'wooow'\n",
        "print(lstB)"
      ],
      "execution_count": 0,
      "outputs": [
        {
          "output_type": "stream",
          "text": [
            "[1000, ['a', 'e', 'i', 'o', 'u'], 10, 20, 'AAA']\n",
            "[1000, ['a', 'e', 'i', 'wooow', 'u'], 10, 20, 'AAA']\n"
          ],
          "name": "stdout"
        }
      ]
    },
    {
      "cell_type": "code",
      "metadata": {
        "id": "XZVcbGQW7iw9",
        "colab_type": "code",
        "colab": {}
      },
      "source": [
        "#TUPLA() es inmutable: \n",
        "(La única diferencia entre una tupla y una lista es que la tupla no se modifica y la lista sí)\n",
        "tupla = (1, 'python', True)\n",
        "print(tupla)\n",
        "print(type(tupla))\n",
        "\n",
        "#Se puede convertir una tupla en una lista[] y viceversa:\n",
        "otraLista = list(tupla)\n",
        "print(otraLista)\n",
        "print(type(otraLista))\n",
        "\n"
      ],
      "execution_count": 0,
      "outputs": []
    },
    {
      "cell_type": "code",
      "metadata": {
        "id": "U_b3UIr19K4C",
        "colab_type": "code",
        "colab": {}
      },
      "source": [
        "#SETS - Conjuntos:\n",
        "conj2 = set(range(2, 21, 2))\n",
        "conj3 = set(range(3, 21, 3))\n",
        "\n",
        "print('Conj2:                 ', conj2)\n",
        "print('Conj3:                 ', conj3)\n",
        "\n",
        "15 in conj2\n",
        "\n",
        "print('Unión:                 ', conj3 | conj2 )  #unión\n",
        "print('Intersección:          ', conj3 & conj2 ) #intersección\n",
        "print('Diferencia:            ', conj3 - conj2 )  #diferencia\n",
        "print('Diferencia simétrica:  ', conj2 ^ conj3 )  #diferencia simétrica"
      ],
      "execution_count": 0,
      "outputs": []
    },
    {
      "cell_type": "code",
      "metadata": {
        "id": "aAb_tbNE_JmI",
        "colab_type": "code",
        "outputId": "9361f9f3-3f38-4fb4-8b08-130dfa7109b0",
        "colab": {
          "base_uri": "https://localhost:8080/",
          "height": 34
        }
      },
      "source": [
        "#Dictionaries:\n",
        "dicc = {'Camila':56, 76:'Hay', True:False}\n",
        "print(dicc[True])"
      ],
      "execution_count": 0,
      "outputs": [
        {
          "output_type": "stream",
          "text": [
            "False\n"
          ],
          "name": "stdout"
        }
      ]
    },
    {
      "cell_type": "markdown",
      "metadata": {
        "id": "kfFoiICd89Pr",
        "colab_type": "text"
      },
      "source": [
        "Mutables: lista y conjunto\n",
        "\n",
        "Inmutables: tupla y string \n",
        "\n",
        "Diccionario-->   la llave es inmutable y el valor mutable"
      ]
    },
    {
      "cell_type": "code",
      "metadata": {
        "id": "uHOn8m0j_szu",
        "colab_type": "code",
        "colab": {}
      },
      "source": [
        "#Funciones:\n",
        "\n",
        "#Si este fuera un arcghivo a parte llamado \"ejemFunciones\"\n",
        "def suma0(a,b):\n",
        "  return a + b\n",
        "\n",
        "#En ese caso debemos importar la clase para poder usar la función:\n",
        "#import ejemFunciones\n",
        "\n",
        "print(suma0(5,4))          #Los argumentos pueden ser llamados por valor (depende de la posición)\n",
        "\n",
        "print(suma0(b=4, a=3))     #Los argumentos pueden ser llamados por nombre (no importa la posición)\n",
        "\n",
        "def suma(a=1, b=None):\n",
        "  if b==None:\n",
        "    return a\n",
        "  else:\n",
        "    return a+b\n",
        "\n",
        "print(suma()) \n",
        "print(suma(5)) \n",
        "print(suma(5,10)) \n",
        "print(suma(b=15)) \n",
        "print(suma(a=2, b=3)) \n"
      ],
      "execution_count": 0,
      "outputs": []
    },
    {
      "cell_type": "code",
      "metadata": {
        "id": "UMrU_TA1Cbt_",
        "colab_type": "code",
        "outputId": "258e786e-b84c-43c1-ba47-ffb5d50fa07c",
        "colab": {
          "base_uri": "https://localhost:8080/",
          "height": 51
        }
      },
      "source": [
        "#Una función en python puede regresar más de un valor:\n",
        "import math\n",
        "\n",
        "#Función que regresa más de un valor (área y diámetro):\n",
        "def circulo(radio):\n",
        "  return math.pi*radio**2, math.pi*2*radio\n",
        "\n",
        "print(circulo(3))\n",
        "print(circulo(3)[0]) #Para acceder sólo a un valor\n",
        "type(circulo(3))"
      ],
      "execution_count": 0,
      "outputs": [
        {
          "output_type": "stream",
          "text": [
            "(28.274333882308138, 18.84955592153876)\n",
            "28.274333882308138\n"
          ],
          "name": "stdout"
        }
      ]
    },
    {
      "cell_type": "code",
      "metadata": {
        "id": "QHFq0RtfFf_x",
        "colab_type": "code",
        "outputId": "5abafd55-bc70-4ebf-ecd8-f6aeba82bd99",
        "colab": {
          "base_uri": "https://localhost:8080/",
          "height": 34
        }
      },
      "source": [
        "#Función de orden superior:\n",
        "def saludar(idioma):\n",
        "  def esp():\n",
        "    print('hola')\n",
        "  def ing():\n",
        "    print('hello')\n",
        "  def fran():\n",
        "    print('salut')\n",
        "  idiomaFun={\n",
        "      'es':esp,\n",
        "      'in': ing,\n",
        "      'fr': fran}\n",
        "  return idiomaFun[idioma]\n",
        "\n",
        "saludar('es')()"
      ],
      "execution_count": 0,
      "outputs": [
        {
          "output_type": "stream",
          "text": [
            "hola\n"
          ],
          "name": "stdout"
        }
      ]
    },
    {
      "cell_type": "code",
      "metadata": {
        "id": "FqrPVljUH9K-",
        "colab_type": "code",
        "outputId": "2594f52d-c5b6-4b29-da04-f693ed3bba02",
        "colab": {
          "base_uri": "https://localhost:8080/",
          "height": 34
        }
      },
      "source": [
        "#Funciones lambda --> funciones anónimas (desechables) (implícita) sólo se utilizan en donde son creadas:\n",
        "resta = lambda x,y:x-y\n",
        "print(resta(110,10))"
      ],
      "execution_count": 0,
      "outputs": [
        {
          "output_type": "stream",
          "text": [
            "100\n"
          ],
          "name": "stdout"
        }
      ]
    },
    {
      "cell_type": "code",
      "metadata": {
        "id": "HCp2FVR6JMzy",
        "colab_type": "code",
        "outputId": "bf38dc4b-3004-44f8-d43a-b2106df85786",
        "colab": {
          "base_uri": "https://localhost:8080/",
          "height": 51
        }
      },
      "source": [
        "#Interacciones de orden superior:\n",
        "def cubo(x):\n",
        "  return x**3\n",
        "\n",
        "lista=[1,2,3,4,5]\n",
        "\n",
        "#programación funcional:\n",
        "print(list(map(cubo, lista)))\n",
        "\n",
        "#programación imperativa:\n",
        "print([cubo(elem) for elem in lista])\n",
        "\n"
      ],
      "execution_count": 0,
      "outputs": [
        {
          "output_type": "stream",
          "text": [
            "[1, 8, 27, 64, 125]\n",
            "[1, 8, 27, 64, 125]\n"
          ],
          "name": "stdout"
        }
      ]
    },
    {
      "cell_type": "code",
      "metadata": {
        "id": "R8CslrkuLes_",
        "colab_type": "code",
        "outputId": "5bc63a07-9177-4d64-d257-492f56b2c342",
        "colab": {
          "base_uri": "https://localhost:8080/",
          "height": 102
        }
      },
      "source": [
        "#otro ejemplo:\n",
        "lstA=[1,2,3,4,5]\n",
        "lstB=[100,200,300,400,500]\n",
        "\n",
        "print( list( map(lambda a,b:a+b, lstA, lstB) ) )\n",
        "\n",
        "#programación imperativa:\n",
        "print( [lstA[i] + lstB[i] for i in range(5)] )\n",
        "\n",
        "#programación funcional\n",
        "def esPar(n):\n",
        "  return n%2==0\n",
        "\n",
        "lista2=[1,2,3,4,5]\n",
        "print( list(filter(esPar, lista2))) #sólo te arma una llista con os que sean true... los pares te regresan true.\n",
        "print(list(filter(lambda x:x%2==0, lista2)))\n",
        "\n",
        "from functools import reduce\n",
        "nums=[47,11,42,13]\n",
        "print(reduce(lambda x,y:x+y, nums))"
      ],
      "execution_count": 0,
      "outputs": [
        {
          "output_type": "stream",
          "text": [
            "[101, 202, 303, 404, 505]\n",
            "[101, 202, 303, 404, 505]\n",
            "[2, 4]\n",
            "[2, 4]\n",
            "113\n"
          ],
          "name": "stdout"
        }
      ]
    },
    {
      "cell_type": "code",
      "metadata": {
        "id": "90K_YXEDPXgi",
        "colab_type": "code",
        "outputId": "a954ef98-ac32-48dd-f75a-f3face6a9948",
        "colab": {
          "base_uri": "https://localhost:8080/",
          "height": 88
        }
      },
      "source": [
        "#Lectura de archivos \n",
        "def lee(archivo):\n",
        "  id=open(archivo, 'r')\n",
        "  contenido= id.read()\n",
        "  listaRes = contenido.split('\\n')\n",
        "  id.close()\n",
        "  return listaRes\n",
        "\n",
        "from google.colab import drive\n",
        "drive.mount('/content/drive')\n",
        "\n",
        "lis = lee(\"CURP_A.csv\")\n",
        "print(len(lis))\n",
        "\n",
        "lis2 = lee(\"MuchasCURPs.csv\")\n",
        "print(len(lis2))"
      ],
      "execution_count": 0,
      "outputs": [
        {
          "output_type": "stream",
          "text": [
            "Drive already mounted at /content/drive; to attempt to forcibly remount, call drive.mount(\"/content/drive\", force_remount=True).\n",
            "196\n",
            "9995\n"
          ],
          "name": "stdout"
        }
      ]
    },
    {
      "cell_type": "code",
      "metadata": {
        "id": "R4_cOY7sSax7",
        "colab_type": "code",
        "outputId": "e6b800a5-dd44-433c-c2a6-8c8e0e7f2d01",
        "colab": {
          "base_uri": "https://localhost:8080/",
          "height": 156
        }
      },
      "source": [
        "def porcGenero(lstCURP):\n",
        "  dicGenero = {}\n",
        "\n",
        "  lstGenero = [ curp[10] for curp in lstCURP ]\n",
        "\n",
        "  dicGenero['H'] = lstGenero.count('H') / len(lstGenero)\n",
        "  dicGenero['M'] = lstGenero.count('M') / len(lstGenero)\n",
        "\n",
        "  return dicGenero\n",
        "\n",
        "from google.colab import drive\n",
        "drive.mount('/content/drive')\n",
        "\n",
        "lstCURP = lee('CURP_A.csv')\n",
        "dicG = porcGenero(lstCURP)\n",
        "print('Hombres: ', dicG['H'],' %')\n",
        "print('Mujeres: ', dicG['M'],' %')\n",
        "\n"
      ],
      "execution_count": 0,
      "outputs": [
        {
          "output_type": "stream",
          "text": [
            "Go to this URL in a browser: https://accounts.google.com/o/oauth2/auth?client_id=947318989803-6bn6qk8qdgf4n4g3pfee6491hc0brc4i.apps.googleusercontent.com&redirect_uri=urn%3aietf%3awg%3aoauth%3a2.0%3aoob&response_type=code&scope=email%20https%3a%2f%2fwww.googleapis.com%2fauth%2fdocs.test%20https%3a%2f%2fwww.googleapis.com%2fauth%2fdrive%20https%3a%2f%2fwww.googleapis.com%2fauth%2fdrive.photos.readonly%20https%3a%2f%2fwww.googleapis.com%2fauth%2fpeopleapi.readonly\n",
            "\n",
            "Enter your authorization code:\n",
            "··········\n",
            "Mounted at /content/drive\n",
            "Hombres:  0.576530612244898  %\n",
            "Mujeres:  0.42346938775510207  %\n"
          ],
          "name": "stdout"
        }
      ]
    },
    {
      "cell_type": "code",
      "metadata": {
        "id": "74QBjTUmVTmT",
        "colab_type": "code",
        "colab": {}
      },
      "source": [
        ""
      ],
      "execution_count": 0,
      "outputs": []
    }
  ]
}